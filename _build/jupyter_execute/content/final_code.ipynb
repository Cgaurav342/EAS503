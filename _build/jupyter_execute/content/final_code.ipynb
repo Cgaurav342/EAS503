{
 "cells": [
  {
   "cell_type": "markdown",
   "metadata": {},
   "source": [
    "# Final Code - EAS503 - gc54"
   ]
  },
  {
   "cell_type": "code",
   "execution_count": 1,
   "metadata": {},
   "outputs": [],
   "source": [
    "import sqlite3 as sql3\n",
    "import pandas as pd\n",
    "import numpy as ny\n",
    "import matplotlib as mpl\n",
    "import os\n",
    "import sklearn as sk\n",
    "import seaborn as sns\n",
    "import mlflow as mf\n",
    "import dagshub as dh"
   ]
  },
  {
   "cell_type": "code",
   "execution_count": 2,
   "metadata": {},
   "outputs": [],
   "source": [
    "data=pd.read_csv(\"C:\\\\Users\\\\cgaur\\\\Box\\\\Fall'24 Semester\\\\EAS 503 - Intro to Programming\\\\Final Project\\\\Data\\\\adult.csv\")"
   ]
  },
  {
   "cell_type": "markdown",
   "metadata": {},
   "source": [
    "Normalization of data"
   ]
  },
  {
   "cell_type": "code",
   "execution_count": 3,
   "metadata": {},
   "outputs": [],
   "source": [
    "db_name='database_gc54.db'\n",
    "conn=sql3.connect(db_name)\n",
    "cursor=conn.cursor()"
   ]
  },
  {
   "cell_type": "code",
   "execution_count": 4,
   "metadata": {},
   "outputs": [],
   "source": [
    "cursor.execute('''\n",
    "CREATE TABLE IF NOT EXISTS COUNTRY(\n",
    "               country_id INT NOT NULL PRIMARY KEY,\n",
    "               country TEXT NOT NULL\n",
    "               )\n",
    "               ''')\n",
    "\n",
    "cursor.execute('''\n",
    "CREATE TABLE IF NOT EXISTS EDUCATION(\n",
    "               education_id INT  NOT NULL PRIMARY KEY,\n",
    "               education TEXT NOT NULL,\n",
    "               education_num INT NOT NULL\n",
    "               )\n",
    "               ''')\n",
    "\n",
    "cursor.execute('''\n",
    "CREATE TABLE IF NOT EXISTS RACE(\n",
    "               race_id INT  NOT NULL PRIMARY KEY,\n",
    "               race TEXT NOT NULL\n",
    "               )\n",
    "               ''')\n",
    "\n",
    "cursor.execute('''\n",
    "CREATE TABLE IF NOT EXISTS OCCUPATION(\n",
    "               occupation_id INT  NOT NULL PRIMARY KEY,\n",
    "               occupation TEXT NOT NULL\n",
    "               )\n",
    "               ''')\n",
    "\n",
    "cursor.execute('''\n",
    "CREATE TABLE IF NOT EXISTS WORKCLASS(\n",
    "              workclass_id INT  NOT NULL PRIMARY KEY,\n",
    "               workclass TEXT NOT NULL\n",
    "               )\n",
    "               ''')\n",
    "\n",
    "cursor.execute('''\n",
    "CREATE TABLE IF NOT EXISTS Marital_Status(\n",
    "               marital_status_id INT  NOT NULL PRIMARY KEY,\n",
    "               marital_status TEXT NOT NULL\n",
    "               )\n",
    "               ''')\n",
    "\n",
    "cursor.execute('''\n",
    "CREATE TABLE IF NOT EXISTS Relationship(\n",
    "               relationship_id INT  NOT NULL PRIMARY KEY,\n",
    "               relationship TEXT NOT NULL\n",
    "               )\n",
    "               ''')\n",
    "\n",
    "cursor.execute('''\n",
    "CREATE TABLE IF NOT EXISTS Gender(\n",
    "               gender_id INT  NOT NULL PRIMARY KEY,\n",
    "               gender TEXT NOT NULL\n",
    "               )\n",
    "               ''')\n",
    "\n",
    "cursor.execute('''\n",
    "CREATE TABLE IF NOT EXISTS Person_income(\n",
    "               person_id INT  NOT NULL PRIMARY KEY,\n",
    "               country_id INT NOT NULL,\n",
    "               education_id INT NOT NULL,\n",
    "               race_id INT NOT NULL,\n",
    "               occupation_id INT NOT NULL,\n",
    "               workclass_id INT NOT NULL,\n",
    "               marital_status_id INT NOT NULL,\n",
    "               relationship_id INT NOT NULL,\n",
    "               gender_id INT NOT NULL,\n",
    "               age INT NOT NULL,\n",
    "               fnlwgt INT NOT NULL,\n",
    "               capital_gain INT NOT NULL,\n",
    "               capital_loss INT NOT NULL,\n",
    "               hours_per_week INT NOT NULL,\n",
    "               income_class TEXT NOT NULL\n",
    "\n",
    "               )\n",
    "               ''')\n",
    "\n",
    "conn.commit()"
   ]
  },
  {
   "cell_type": "code",
   "execution_count": 5,
   "metadata": {},
   "outputs": [],
   "source": [
    "lookup_values = {\n",
    "    \"countries\": data[\"native-country\"].unique().tolist(),\n",
    "    \"education\": data[[\"education\", \"educational-num\"]].drop_duplicates().values.tolist(),\n",
    "    \"races\": data[\"race\"].unique().tolist(),\n",
    "    \"occupations\": data[\"occupation\"].unique().tolist(),\n",
    "    \"workclasses\": data[\"workclass\"].unique().tolist(),\n",
    "    \"marital_statuses\": data[\"marital-status\"].unique().tolist(),\n",
    "    \"relationships\": data[\"relationship\"].unique().tolist(),\n",
    "    \"genders\": data[\"gender\"].unique().tolist(),\n",
    "}\n",
    "\n",
    "# Prepare each list into a list of tuples\n",
    "tuples_for_insertion = {\n",
    "    \"countries\": [(i + 1, lookup_values[\"countries\"][i]) for i in range(0, len(lookup_values[\"countries\"]))],\n",
    "    \"education\": [(i + 1, education[0], education[1]) for i, education in enumerate(lookup_values[\"education\"])],\n",
    "    \"races\": [(i + 1, race) for i, race in enumerate(lookup_values[\"races\"])],\n",
    "    \"occupations\": [(i + 1, occupation) for i, occupation in enumerate(lookup_values[\"occupations\"])],\n",
    "    \"workclasses\": [(i + 1, workclass) for i, workclass in enumerate(lookup_values[\"workclasses\"])],\n",
    "    \"marital_statuses\": [(i + 1, status) for i, status in enumerate(lookup_values[\"marital_statuses\"])],\n",
    "    \"relationships\": [(i + 1, relationship) for i, relationship in enumerate(lookup_values[\"relationships\"])],\n",
    "    \"genders\": [(i + 1, gender) for i, gender in enumerate(lookup_values[\"genders\"])],\n",
    "}\n",
    "\n"
   ]
  },
  {
   "cell_type": "code",
   "execution_count": 6,
   "metadata": {},
   "outputs": [
    {
     "data": {
      "text/plain": [
       "<sqlite3.Cursor at 0x1b7c02d4f40>"
      ]
     },
     "execution_count": 6,
     "metadata": {},
     "output_type": "execute_result"
    }
   ],
   "source": [
    "\n",
    "cursor.executemany('''\n",
    "INSERT INTO country(country_id,country) values(?,?)\n",
    "                   ''',tuples_for_insertion['countries'])\n",
    "\n",
    "# Insert data for each table using the appropriate query\n",
    "cursor.executemany('''\n",
    "INSERT INTO EDUCATION (education_id, education, education_num)\n",
    "VALUES (?, ?, ?)\n",
    "''', tuples_for_insertion['education'])\n",
    "\n",
    "cursor.executemany('''\n",
    "INSERT INTO RACE (race_id, race)\n",
    "VALUES (?, ?)\n",
    "''', tuples_for_insertion['races'])\n",
    "\n",
    "cursor.executemany('''\n",
    "INSERT INTO OCCUPATION (occupation_id, occupation)\n",
    "VALUES (?, ?)\n",
    "''', tuples_for_insertion['occupations'])\n",
    "\n",
    "cursor.executemany('''\n",
    "INSERT INTO WORKCLASS (workclass_id, workclass)\n",
    "VALUES (?, ?)\n",
    "''', tuples_for_insertion['workclasses'])\n",
    "\n",
    "cursor.executemany('''\n",
    "INSERT INTO Marital_Status (marital_status_id, marital_status)\n",
    "VALUES (?, ?)\n",
    "''', tuples_for_insertion['marital_statuses'])\n",
    "\n",
    "cursor.executemany('''\n",
    "INSERT INTO Relationship (relationship_id, relationship)\n",
    "VALUES (?, ?)\n",
    "''', tuples_for_insertion['relationships'])\n",
    "\n",
    "cursor.executemany('''\n",
    "INSERT INTO Gender (gender_id, gender)\n",
    "VALUES (?, ?)\n",
    "''', tuples_for_insertion['genders'])\n"
   ]
  },
  {
   "cell_type": "code",
   "execution_count": 7,
   "metadata": {},
   "outputs": [],
   "source": [
    "cursor.execute(\"SELECT country_id, country FROM country\")\n",
    "countries_dict = {country: country_id for country_id, country in cursor.fetchall()}\n",
    "\n",
    "cursor.execute(\"SELECT education_id, education FROM education\")\n",
    "education_dict = {education: education_id for education_id, education in cursor.fetchall()}\n",
    "\n",
    "cursor.execute(\"SELECT race_id, race FROM race\")\n",
    "races_dict = {race: race_id for race_id, race in cursor.fetchall()}\n",
    "\n",
    "cursor.execute(\"SELECT occupation_id, occupation FROM occupation\")\n",
    "occupations_dict = {occupation: occupation_id for occupation_id, occupation in cursor.fetchall()}\n",
    "\n",
    "cursor.execute(\"SELECT workclass_id, workclass FROM workclass\")\n",
    "workclasses_dict = {workclass: workclass_id for workclass_id, workclass in cursor.fetchall()}\n",
    "\n",
    "cursor.execute(\"SELECT marital_status_id, marital_status FROM marital_status\")\n",
    "marital_statuses_dict = {status: marital_status_id for marital_status_id, status in cursor.fetchall()}\n",
    "\n",
    "cursor.execute(\"SELECT relationship_id, relationship FROM relationship\")\n",
    "relationships_dict = {relationship: relationship_id for relationship_id, relationship in cursor.fetchall()}\n",
    "\n",
    "cursor.execute(\"SELECT gender_id, gender FROM gender\")\n",
    "genders_dict = {gender: gender_id for gender_id, gender in cursor.fetchall()}"
   ]
  },
  {
   "cell_type": "code",
   "execution_count": 8,
   "metadata": {},
   "outputs": [],
   "source": [
    "data_with_id=data"
   ]
  },
  {
   "cell_type": "code",
   "execution_count": 9,
   "metadata": {},
   "outputs": [
    {
     "name": "stderr",
     "output_type": "stream",
     "text": [
      "C:\\Users\\cgaur\\AppData\\Local\\Temp\\ipykernel_42156\\2867704570.py:1: FutureWarning: Downcasting behavior in `replace` is deprecated and will be removed in a future version. To retain the old behavior, explicitly call `result.infer_objects(copy=False)`. To opt-in to the future behavior, set `pd.set_option('future.no_silent_downcasting', True)`\n",
      "  data_with_id['native-country']=data_with_id['native-country'].replace(countries_dict)\n",
      "C:\\Users\\cgaur\\AppData\\Local\\Temp\\ipykernel_42156\\2867704570.py:2: FutureWarning: Downcasting behavior in `replace` is deprecated and will be removed in a future version. To retain the old behavior, explicitly call `result.infer_objects(copy=False)`. To opt-in to the future behavior, set `pd.set_option('future.no_silent_downcasting', True)`\n",
      "  data_with_id['education']=data_with_id['education'].replace(education_dict)\n",
      "C:\\Users\\cgaur\\AppData\\Local\\Temp\\ipykernel_42156\\2867704570.py:3: FutureWarning: Downcasting behavior in `replace` is deprecated and will be removed in a future version. To retain the old behavior, explicitly call `result.infer_objects(copy=False)`. To opt-in to the future behavior, set `pd.set_option('future.no_silent_downcasting', True)`\n",
      "  data_with_id['race']=data_with_id['race'].replace(races_dict)\n",
      "C:\\Users\\cgaur\\AppData\\Local\\Temp\\ipykernel_42156\\2867704570.py:4: FutureWarning: Downcasting behavior in `replace` is deprecated and will be removed in a future version. To retain the old behavior, explicitly call `result.infer_objects(copy=False)`. To opt-in to the future behavior, set `pd.set_option('future.no_silent_downcasting', True)`\n",
      "  data_with_id['occupation']=data_with_id['occupation'].replace(occupations_dict)\n",
      "C:\\Users\\cgaur\\AppData\\Local\\Temp\\ipykernel_42156\\2867704570.py:5: FutureWarning: Downcasting behavior in `replace` is deprecated and will be removed in a future version. To retain the old behavior, explicitly call `result.infer_objects(copy=False)`. To opt-in to the future behavior, set `pd.set_option('future.no_silent_downcasting', True)`\n",
      "  data_with_id['workclass']=data_with_id['workclass'].replace(workclasses_dict)\n",
      "C:\\Users\\cgaur\\AppData\\Local\\Temp\\ipykernel_42156\\2867704570.py:6: FutureWarning: Downcasting behavior in `replace` is deprecated and will be removed in a future version. To retain the old behavior, explicitly call `result.infer_objects(copy=False)`. To opt-in to the future behavior, set `pd.set_option('future.no_silent_downcasting', True)`\n",
      "  data_with_id['marital-status']=data_with_id['marital-status'].replace(marital_statuses_dict)\n",
      "C:\\Users\\cgaur\\AppData\\Local\\Temp\\ipykernel_42156\\2867704570.py:7: FutureWarning: Downcasting behavior in `replace` is deprecated and will be removed in a future version. To retain the old behavior, explicitly call `result.infer_objects(copy=False)`. To opt-in to the future behavior, set `pd.set_option('future.no_silent_downcasting', True)`\n",
      "  data_with_id['relationship']=data_with_id['relationship'].replace(relationships_dict)\n",
      "C:\\Users\\cgaur\\AppData\\Local\\Temp\\ipykernel_42156\\2867704570.py:8: FutureWarning: Downcasting behavior in `replace` is deprecated and will be removed in a future version. To retain the old behavior, explicitly call `result.infer_objects(copy=False)`. To opt-in to the future behavior, set `pd.set_option('future.no_silent_downcasting', True)`\n",
      "  data_with_id['gender']=data_with_id['gender'].replace(genders_dict)\n"
     ]
    }
   ],
   "source": [
    "data_with_id['native-country']=data_with_id['native-country'].replace(countries_dict)\n",
    "data_with_id['education']=data_with_id['education'].replace(education_dict)\n",
    "data_with_id['race']=data_with_id['race'].replace(races_dict)\n",
    "data_with_id['occupation']=data_with_id['occupation'].replace(occupations_dict)\n",
    "data_with_id['workclass']=data_with_id['workclass'].replace(workclasses_dict)\n",
    "data_with_id['marital-status']=data_with_id['marital-status'].replace(marital_statuses_dict)\n",
    "data_with_id['relationship']=data_with_id['relationship'].replace(relationships_dict)\n",
    "data_with_id['gender']=data_with_id['gender'].replace(genders_dict)"
   ]
  },
  {
   "cell_type": "code",
   "execution_count": 10,
   "metadata": {},
   "outputs": [],
   "source": [
    "tuple_for_final=[(i+1,int(data_with_id.iloc[i,13]),int(data_with_id.iloc[i,3]),int(data_with_id.iloc[i,8]),int(data_with_id.iloc[i,6]),int(data_with_id.iloc[i,1]),int(data_with_id.iloc[i,5]),int(data_with_id.iloc[i,7]),int(data_with_id.iloc[i,9]),int(data_with_id.iloc[i,0]),int(data_with_id.iloc[i,2]),int(data_with_id.iloc[i,10]),int(data_with_id.iloc[i,11]),int(data_with_id.iloc[i,12]),data_with_id.iloc[i,14]) for i in range(0,data_with_id.shape[0])]"
   ]
  },
  {
   "cell_type": "code",
   "execution_count": 11,
   "metadata": {},
   "outputs": [
    {
     "data": {
      "text/plain": [
       "(2, 1, 2, 2, 2, 1, 2, 2, 1, 38, 89814, 0, 0, 50, '<=50K')"
      ]
     },
     "execution_count": 11,
     "metadata": {},
     "output_type": "execute_result"
    }
   ],
   "source": [
    "tuple_for_final[1]"
   ]
  },
  {
   "cell_type": "code",
   "execution_count": 12,
   "metadata": {},
   "outputs": [],
   "source": [
    "cursor.executemany('''\n",
    "INSERT INTO Person_income(\n",
    "    person_id, country_id, education_id, race_id, occupation_id, workclass_id, \n",
    "    marital_status_id, relationship_id, gender_id, age, fnlwgt, capital_gain, \n",
    "    capital_loss, hours_per_week, income_class\n",
    ") VALUES (?,?,?,?,?,?,?,?,?,?,?,?,?,?,?)\n",
    "''', tuple_for_final)\n",
    "\n",
    "conn.commit()\n"
   ]
  },
  {
   "cell_type": "markdown",
   "metadata": {},
   "source": [
    "Normalization Complete. Start with ML Model Application"
   ]
  },
  {
   "cell_type": "code",
   "execution_count": 13,
   "metadata": {},
   "outputs": [],
   "source": [
    "data_int=pd.read_sql_query(''' SELECT \n",
    "    pi.age,\n",
    "    w.workclass,\n",
    "    pi.fnlwgt,\n",
    "    e.education,\n",
    "    e.education_num,\n",
    "    ms.marital_status,\n",
    "    o.occupation,\n",
    "    rel.relationship,\n",
    "    r.race,\n",
    "    g.gender,\n",
    "    pi.capital_gain,\n",
    "    pi.capital_loss,\n",
    "    pi.hours_per_week,\n",
    "    c.country,\n",
    "    pi.income_class\n",
    "FROM \n",
    "    Person_income pi\n",
    "JOIN \n",
    "    COUNTRY c ON pi.country_id = c.country_id\n",
    "JOIN \n",
    "    EDUCATION e ON pi.education_id = e.education_id\n",
    "JOIN \n",
    "    RACE r ON pi.race_id = r.race_id\n",
    "JOIN \n",
    "    OCCUPATION o ON pi.occupation_id = o.occupation_id\n",
    "JOIN \n",
    "    WORKCLASS w ON pi.workclass_id = w.workclass_id\n",
    "JOIN \n",
    "    Marital_Status ms ON pi.marital_status_id = ms.marital_status_id\n",
    "JOIN \n",
    "    Relationship rel ON pi.relationship_id = rel.relationship_id\n",
    "JOIN \n",
    "    Gender g ON pi.gender_id = g.gender_id;\n",
    "''',conn)\n",
    "\n",
    "conn.close()"
   ]
  },
  {
   "cell_type": "markdown",
   "metadata": {},
   "source": [
    "Convert data to Train Test."
   ]
  },
  {
   "cell_type": "code",
   "execution_count": 14,
   "metadata": {},
   "outputs": [],
   "source": [
    "from sklearn.model_selection import train_test_split\n",
    "data_final=data_int.copy(deep=True)\n",
    "data_final['income_class']=data_final['income_class'].apply((lambda x: 1 if x=='>50K' else 0))\n",
    "x=data_final.drop(['income_class'],axis=1)\n",
    "y=data_final['income_class']\n",
    "\n",
    "x_train, x_test, y_train, y_test = train_test_split(x, y, test_size=0.2, random_state=45,stratify=y) \n",
    "#Data needs stratification as there is variation in income class\n",
    "\n",
    "train_data = pd.concat([x_train, y_train], axis=1)\n",
    "test_data = pd.concat([x_test, y_test], axis=1)\n"
   ]
  },
  {
   "cell_type": "markdown",
   "metadata": {},
   "source": [
    "Y data Profiling and Data Cleanup"
   ]
  },
  {
   "cell_type": "code",
   "execution_count": 15,
   "metadata": {},
   "outputs": [],
   "source": [
    "# from ydata_profiling import ProfileReport\n",
    "\n",
    "# # Generate profile report for the DataFrame\n",
    "# profile = ProfileReport(train_data, title=\"Data Exploration Report\", explorative=True)\n",
    "\n",
    "# # Save or display the report\n",
    "# profile.to_file(\"data_report.html\")  # Save as an HTML file\n",
    "# profile.to_notebook_iframe()"
   ]
  },
  {
   "cell_type": "code",
   "execution_count": 16,
   "metadata": {},
   "outputs": [
    {
     "data": {
      "text/plain": [
       "age               0\n",
       "workclass         0\n",
       "fnlwgt            0\n",
       "education         0\n",
       "education_num     0\n",
       "marital_status    0\n",
       "occupation        0\n",
       "relationship      0\n",
       "race              0\n",
       "gender            0\n",
       "capital_gain      0\n",
       "capital_loss      0\n",
       "hours_per_week    0\n",
       "country           0\n",
       "income_class      0\n",
       "dtype: int64"
      ]
     },
     "execution_count": 16,
     "metadata": {},
     "output_type": "execute_result"
    }
   ],
   "source": [
    "train_data.isnull().sum()"
   ]
  },
  {
   "cell_type": "code",
   "execution_count": 17,
   "metadata": {},
   "outputs": [
    {
     "data": {
      "text/plain": [
       "<function mlflow.tracking.fluent.end_run(status: str = 'FINISHED') -> None>"
      ]
     },
     "execution_count": 17,
     "metadata": {},
     "output_type": "execute_result"
    }
   ],
   "source": [
    "import matplotlib.pyplot as plt\n",
    "import mlflow\n",
    "train_data.describe()\n",
    "train_data.hist(figsize=(12, 10))\n",
    "\n",
    "# Save the plot locally first\n",
    "plt.savefig('train_data_histogram.png')\n",
    "\n",
    "# Close the plot to avoid it showing on screen\n",
    "plt.close()\n",
    "\n",
    "# Log the plot to MLFlow\n",
    "with mlflow.start_run(run_name='Histograms of features',nested=True):\n",
    "    mlflow.log_artifact('train_data_histogram.png')\n",
    "mlflow.end_run\n"
   ]
  },
  {
   "cell_type": "code",
   "execution_count": 18,
   "metadata": {},
   "outputs": [
    {
     "data": {
      "image/png": "[encoded data removed]",
      "text/plain": [
       "<Figure size 1000x800 with 2 Axes>"
      ]
     },
     "metadata": {},
     "output_type": "display_data"
    },
    {
     "data": {
      "text/plain": [
       "<function mlflow.tracking.fluent.end_run(status: str = 'FINISHED') -> None>"
      ]
     },
     "execution_count": 18,
     "metadata": {},
     "output_type": "execute_result"
    }
   ],
   "source": [
    "import matplotlib.pyplot as plt\n",
    "\n",
    "# Compute correlation matrix\n",
    "train_data_numeric=train_data.select_dtypes(['number'])\n",
    "corr_matrix = train_data_numeric.corr()\n",
    "\n",
    "# Plot heatmap of the correlation matrix\n",
    "plt.figure(figsize=(10, 8))\n",
    "sns.heatmap(corr_matrix, annot=True, cmap='coolwarm', fmt=\".2f\")\n",
    "plt.title(\"Correlation Matrix\")\n",
    "# Save the plot locally first\n",
    "plt.savefig('corr_matrix.png')\n",
    "plt.show()\n",
    "\n",
    "# Log the plot to MLFlow\n",
    "with mlflow.start_run(run_name='Correlation',nested=True):\n",
    "    mlflow.log_artifact('corr_matrix.png')\n",
    "mlflow.end_run\n"
   ]
  },
  {
   "cell_type": "markdown",
   "metadata": {},
   "source": [
    "There are no missing values as such in the numeric data. \n",
    "Categorical columns have ? at some places, which I believe would be enocoded and be taken care of by the models.\n",
    "Some outliers in Capital Gain but not removing right now.\n"
   ]
  },
  {
   "cell_type": "code",
   "execution_count": 19,
   "metadata": {},
   "outputs": [
    {
     "data": {
      "text/html": [
       "<pre style=\"white-space:pre;overflow-x:auto;line-height:normal;font-family:Menlo,'DejaVu Sans Mono',consolas,'Courier New',monospace\">Accessing as gc54\n",
       "</pre>\n"
      ],
      "text/plain": [
       "Accessing as gc54\n"
      ]
     },
     "metadata": {},
     "output_type": "display_data"
    },
    {
     "data": {
      "text/html": [
       "<pre style=\"white-space:pre;overflow-x:auto;line-height:normal;font-family:Menlo,'DejaVu Sans Mono',consolas,'Courier New',monospace\">Initialized MLflow to track repo <span style=\"color: #008000; text-decoration-color: #008000\">\"gc54/EAS503_Project\"</span>\n",
       "</pre>\n"
      ],
      "text/plain": [
       "Initialized MLflow to track repo \u001b[32m\"gc54/EAS503_Project\"\u001b[0m\n"
      ]
     },
     "metadata": {},
     "output_type": "display_data"
    },
    {
     "data": {
      "text/html": [
       "<pre style=\"white-space:pre;overflow-x:auto;line-height:normal;font-family:Menlo,'DejaVu Sans Mono',consolas,'Courier New',monospace\">Repository gc54/EAS503_Project initialized!\n",
       "</pre>\n"
      ],
      "text/plain": [
       "Repository gc54/EAS503_Project initialized!\n"
      ]
     },
     "metadata": {},
     "output_type": "display_data"
    }
   ],
   "source": [
    "import pandas as pd\n",
    "import numpy as np\n",
    "from sklearn.model_selection import train_test_split, cross_validate, GridSearchCV\n",
    "from sklearn.pipeline import Pipeline\n",
    "from sklearn.preprocessing import StandardScaler, MinMaxScaler, OneHotEncoder, FunctionTransformer\n",
    "from sklearn.compose import ColumnTransformer\n",
    "from sklearn.linear_model import LogisticRegression\n",
    "from sklearn.metrics import f1_score, confusion_matrix, make_scorer\n",
    "import mlflow\n",
    "from mlflow import sklearn\n",
    "from sklearn.model_selection import StratifiedKFold, cross_val_score\n",
    "\n",
    "dh.init(repo_owner='gc54',\n",
    "             repo_name='EAS503_Project',\n",
    "             mlflow=True)"
   ]
  },
  {
   "cell_type": "markdown",
   "metadata": {},
   "source": [
    "Creating Logistic Regression Model and Pipeline"
   ]
  },
  {
   "cell_type": "code",
   "execution_count": 20,
   "metadata": {},
   "outputs": [],
   "source": [
    "\n",
    "numeric_features = x_train.select_dtypes(include=['int64', 'float64']).columns\n",
    "categorical_features = x_train.select_dtypes(include=['object']).columns\n",
    "\n",
    "preprocessor_lr= ColumnTransformer(\n",
    "    transformers=[\n",
    "        ('num', Pipeline(steps=[\n",
    "            ('scaler', StandardScaler()),\n",
    "            ('minmax', MinMaxScaler()),\n",
    "            ('log', FunctionTransformer(np.log1p))\n",
    "        ]), numeric_features),\n",
    "        ('cat', OneHotEncoder(), categorical_features)\n",
    "    ])\n",
    "\n",
    "pipeline_lr = Pipeline(steps=[\n",
    "    ('preprocessor', preprocessor_lr),\n",
    "    ('classifier', LogisticRegression(max_iter=1000))\n",
    "])"
   ]
  },
  {
   "cell_type": "markdown",
   "metadata": {},
   "source": [
    "Performing CV and logging results to MLFlow. The results are not so good. some issue with accuracy of "
   ]
  },
  {
   "cell_type": "code",
   "execution_count": 21,
   "metadata": {},
   "outputs": [
    {
     "name": "stderr",
     "output_type": "stream",
     "text": [
      "C:\\Users\\cgaur\\anaconda3\\Lib\\site-packages\\sklearn\\model_selection\\_validation.py:982: UserWarning: Scoring failed. The score on this train-test partition for these parameters will be set to nan. Details: \n",
      "Traceback (most recent call last):\n",
      "  File \"C:\\Users\\cgaur\\anaconda3\\Lib\\site-packages\\sklearn\\model_selection\\_validation.py\", line 971, in _score\n",
      "    scores = scorer(estimator, X_test, y_test, **score_params)\n",
      "             ^^^^^^^^^^^^^^^^^^^^^^^^^^^^^^^^^^^^^^^^^^^^^^^^^\n",
      "  File \"C:\\Users\\cgaur\\anaconda3\\Lib\\site-packages\\sklearn\\metrics\\_scorer.py\", line 279, in __call__\n",
      "    return self._score(partial(_cached_call, None), estimator, X, y_true, **_kwargs)\n",
      "           ^^^^^^^^^^^^^^^^^^^^^^^^^^^^^^^^^^^^^^^^^^^^^^^^^^^^^^^^^^^^^^^^^^^^^^^^^\n",
      "  File \"C:\\Users\\cgaur\\anaconda3\\Lib\\site-packages\\sklearn\\metrics\\_scorer.py\", line 371, in _score\n",
      "    y_pred = method_caller(\n",
      "             ^^^^^^^^^^^^^^\n",
      "  File \"C:\\Users\\cgaur\\anaconda3\\Lib\\site-packages\\sklearn\\metrics\\_scorer.py\", line 89, in _cached_call\n",
      "    result, _ = _get_response_values(\n",
      "                ^^^^^^^^^^^^^^^^^^^^^\n",
      "  File \"C:\\Users\\cgaur\\anaconda3\\Lib\\site-packages\\sklearn\\utils\\_response.py\", line 211, in _get_response_values\n",
      "    y_pred = prediction_method(X)\n",
      "             ^^^^^^^^^^^^^^^^^^^^\n",
      "  File \"C:\\Users\\cgaur\\anaconda3\\Lib\\site-packages\\sklearn\\pipeline.py\", line 600, in predict\n",
      "    Xt = transform.transform(Xt)\n",
      "         ^^^^^^^^^^^^^^^^^^^^^^^\n",
      "  File \"C:\\Users\\cgaur\\anaconda3\\Lib\\site-packages\\sklearn\\utils\\_set_output.py\", line 313, in wrapped\n",
      "    data_to_wrap = f(self, X, *args, **kwargs)\n",
      "                   ^^^^^^^^^^^^^^^^^^^^^^^^^^^\n",
      "  File \"C:\\Users\\cgaur\\anaconda3\\Lib\\site-packages\\sklearn\\compose\\_column_transformer.py\", line 1076, in transform\n",
      "    Xs = self._call_func_on_transformers(\n",
      "         ^^^^^^^^^^^^^^^^^^^^^^^^^^^^^^^^\n",
      "  File \"C:\\Users\\cgaur\\anaconda3\\Lib\\site-packages\\sklearn\\compose\\_column_transformer.py\", line 885, in _call_func_on_transformers\n",
      "    return Parallel(n_jobs=self.n_jobs)(jobs)\n",
      "           ^^^^^^^^^^^^^^^^^^^^^^^^^^^^^^^^^^\n",
      "  File \"C:\\Users\\cgaur\\anaconda3\\Lib\\site-packages\\sklearn\\utils\\parallel.py\", line 74, in __call__\n",
      "    return super().__call__(iterable_with_config)\n",
      "           ^^^^^^^^^^^^^^^^^^^^^^^^^^^^^^^^^^^^^^\n",
      "  File \"C:\\Users\\cgaur\\anaconda3\\Lib\\site-packages\\joblib\\parallel.py\", line 1918, in __call__\n",
      "    return output if self.return_generator else list(output)\n",
      "                                                ^^^^^^^^^^^^\n",
      "  File \"C:\\Users\\cgaur\\anaconda3\\Lib\\site-packages\\joblib\\parallel.py\", line 1847, in _get_sequential_output\n",
      "    res = func(*args, **kwargs)\n",
      "          ^^^^^^^^^^^^^^^^^^^^^\n",
      "  File \"C:\\Users\\cgaur\\anaconda3\\Lib\\site-packages\\sklearn\\utils\\parallel.py\", line 136, in __call__\n",
      "    return self.function(*args, **kwargs)\n",
      "           ^^^^^^^^^^^^^^^^^^^^^^^^^^^^^^\n",
      "  File \"C:\\Users\\cgaur\\anaconda3\\Lib\\site-packages\\sklearn\\pipeline.py\", line 1290, in _transform_one\n",
      "    res = transformer.transform(X, **params.transform)\n",
      "          ^^^^^^^^^^^^^^^^^^^^^^^^^^^^^^^^^^^^^^^^^^^^\n",
      "  File \"C:\\Users\\cgaur\\anaconda3\\Lib\\site-packages\\sklearn\\utils\\_set_output.py\", line 313, in wrapped\n",
      "    data_to_wrap = f(self, X, *args, **kwargs)\n",
      "                   ^^^^^^^^^^^^^^^^^^^^^^^^^^^\n",
      "  File \"C:\\Users\\cgaur\\anaconda3\\Lib\\site-packages\\sklearn\\preprocessing\\_encoders.py\", line 1024, in transform\n",
      "    X_int, X_mask = self._transform(\n",
      "                    ^^^^^^^^^^^^^^^^\n",
      "  File \"C:\\Users\\cgaur\\anaconda3\\Lib\\site-packages\\sklearn\\preprocessing\\_encoders.py\", line 214, in _transform\n",
      "    raise ValueError(msg)\n",
      "ValueError: Found unknown categories ['Holand-Netherlands'] in column 7 during transform\n",
      "\n",
      "  warnings.warn(\n"
     ]
    },
    {
     "name": "stderr",
     "output_type": "stream",
     "text": [
      "2024/12/21 17:07:38 WARNING mlflow.models.model: Model logged without a signature and input example. Please set `input_example` parameter when logging the model to auto infer the model signature.\n"
     ]
    },
    {
     "name": "stdout",
     "output_type": "stream",
     "text": [
      "🏃 View run fearless-wren-698 at: https://dagshub.com/gc54/EAS503_Project.mlflow/#/experiments/0/runs/57e23f58a898404e96705a914da947bf\n",
      "🧪 View experiment at: https://dagshub.com/gc54/EAS503_Project.mlflow/#/experiments/0\n"
     ]
    },
    {
     "name": "stdout",
     "output_type": "stream",
     "text": [
      "🏃 View run nosy-bear-1 at: https://dagshub.com/gc54/EAS503_Project.mlflow/#/experiments/0/runs/ab1c15a332a44d438647b8a9e9c8ff75\n",
      "🧪 View experiment at: https://dagshub.com/gc54/EAS503_Project.mlflow/#/experiments/0\n"
     ]
    }
   ],
   "source": [
    "scoring = {'f1': make_scorer(f1_score), 'conf_matrix': make_scorer(confusion_matrix)}\n",
    "\n",
    "stratified_kfold = StratifiedKFold(n_splits=5, shuffle=True, random_state=42)\n",
    "\n",
    "cv_results_lr = cross_validate(\n",
    "    pipeline_lr, x_train, y_train,\n",
    "    cv=stratified_kfold,\n",
    "    scoring='f1',\n",
    "    return_train_score=True\n",
    ")\n",
    "\n",
    "a= [0 if (x is None or pd.isna(x)) else x for x in cv_results_lr['train_score']]\n",
    "cv_results_lr['train_score']=a\n",
    "\n",
    "with mlflow.start_run():\n",
    "    mlflow.log_metric(\"mean_f1\", cv_results_lr['test_score'].mean())\n",
    "    mlflow.log_metric(\"std_f1\", cv_results_lr['test_score'].std())\n",
    "    \n",
    "    sklearn.log_model(pipeline_lr, \"Logistic_Regression_Model\")\n",
    "\n",
    "# Evaluate on test set\n",
    "pipeline_lr.fit(x_train, y_train)\n",
    "y_pred = pipeline_lr.predict(x_test)\n",
    "\n",
    "f1_lr = f1_score(y_test, y_pred)\n",
    "tn, fp, fn, tp = confusion_matrix(y_test, y_pred).ravel()\n",
    "\n",
    "with mlflow.start_run():\n",
    "    mlflow.log_metric(\"test_f1\", f1_lr)\n",
    "    mlflow.log_metric(\"tp\", tp)\n",
    "    mlflow.log_metric(\"tn\", tn)\n",
    "    mlflow.log_metric(\"fp\", fp)\n",
    "    mlflow.log_metric(\"fn\", fn)"
   ]
  },
  {
   "cell_type": "markdown",
   "metadata": {},
   "source": [
    "Hyper Parameter Tuning"
   ]
  },
  {
   "cell_type": "code",
   "execution_count": 22,
   "metadata": {},
   "outputs": [
    {
     "name": "stderr",
     "output_type": "stream",
     "text": [
      "C:\\Users\\cgaur\\anaconda3\\Lib\\site-packages\\sklearn\\model_selection\\_search.py:1102: UserWarning: One or more of the test scores are non-finite: [nan nan nan]\n",
      "  warnings.warn(\n"
     ]
    }
   ],
   "source": [
    "param_grid = {\n",
    "    'classifier__C': [0.1, 1, 10],\n",
    "    'classifier__penalty': [ 'l2']\n",
    "}\n",
    "\n",
    "grid_search = GridSearchCV(pipeline_lr, param_grid, cv=10, scoring='f1', n_jobs=-1)\n",
    "grid_search.fit(x_train, y_train)\n",
    "\n",
    "best_model = grid_search.best_estimator_\n",
    "mlflow.log_params(grid_search.best_params_)"
   ]
  },
  {
   "cell_type": "markdown",
   "metadata": {},
   "source": [
    "Experiment 2 - Applying Other Models"
   ]
  },
  {
   "cell_type": "code",
   "execution_count": 23,
   "metadata": {},
   "outputs": [],
   "source": [
    "from sklearn.metrics import f1_score, confusion_matrix, make_scorer\n",
    "import mlflow\n",
    "import mlflow.sklearn\n",
    "import numpy as np\n",
    "from sklearn.model_selection import StratifiedKFold, cross_validate\n",
    "from sklearn.pipeline import Pipeline\n",
    "from sklearn.preprocessing import StandardScaler, OneHotEncoder\n",
    "from sklearn.compose import ColumnTransformer\n",
    "from sklearn.impute import SimpleImputer\n",
    "from sklearn.linear_model import LogisticRegression\n",
    "from sklearn.ensemble import RandomForestClassifier\n",
    "from sklearn.linear_model import RidgeClassifier\n",
    "\n",
    "# Define numeric and categorical columns\n",
    "numeric_features = x_train.select_dtypes(include=['int64', 'float64']).columns.tolist()\n",
    "categorical_features = x_train.select_dtypes(include=['object']).columns.tolist()\n",
    "\n",
    "# Preprocessing for numeric data: Scaling & imputation\n",
    "numeric_transformer = Pipeline(steps=[\n",
    "    ('imputer', SimpleImputer(strategy='mean')),\n",
    "    ('scaler', StandardScaler())  # Can replace with MinMaxScaler if needed\n",
    "])\n",
    "\n",
    "# Preprocessing for categorical data: Imputation & OneHotEncoding\n",
    "categorical_transformer = Pipeline(steps=[\n",
    "    ('imputer', SimpleImputer(strategy='constant', fill_value='missing')),\n",
    "    ('onehot', OneHotEncoder(handle_unknown='ignore'))\n",
    "])\n",
    "\n",
    "# Combine both into a ColumnTransformer\n",
    "preprocessor = ColumnTransformer(\n",
    "    transformers=[\n",
    "        ('num', numeric_transformer, numeric_features),\n",
    "        ('cat', categorical_transformer, categorical_features)\n",
    "    ]\n",
    ")\n",
    "\n",
    "# Custom scoring function for confusion matrix\n",
    "def confusion_matrix_metrics(y_true, y_pred):\n",
    "    cm = confusion_matrix(y_true, y_pred)\n",
    "    tn, fp, fn, tp = cm.ravel()\n",
    "    return {\n",
    "        'TP': tp,\n",
    "        'TN': tn,\n",
    "        'FP': fp,\n",
    "        'FN': fn\n",
    "    }\n",
    "\n",
    "# Define scoring function for cross-validation\n",
    "scoring = {\n",
    "    'f1': make_scorer(f1_score, average='weighted'),\n",
    "    'conf_matrix': make_scorer(confusion_matrix_metrics)\n",
    "}\n",
    "\n",
    "# Function to run and log results for different models, and return cv_results\n",
    "def run_model(model, model_name, x_train, y_train):\n",
    "    pipeline = Pipeline(steps=[('preprocessor', preprocessor),\n",
    "                               ('classifier', model)])\n",
    "\n",
    "    stratified_kfold = StratifiedKFold(n_splits=5, shuffle=True, random_state=42)\n",
    "    \n",
    "    with mlflow.start_run(nested=True):\n",
    "        mlflow.log_param(\"classifier\", model_name)\n",
    "        \n",
    "        # Perform cross-validation\n",
    "        cv_results = cross_validate(pipeline, x_train, y_train, cv=stratified_kfold, scoring='f1', return_train_score=True)\n",
    "        \n",
    "        # Log F1-score results\n",
    "        mlflow.log_metric(\"mean_f1\", cv_results['test_score'].mean())\n",
    "        mlflow.log_metric(\"std_f1\", cv_results['test_score'].std())\n",
    "        \n",
    "        # Log confusion matrix results\n",
    "        pipeline.fit(x_train,y_train)\n",
    "        y_pred=pipeline.predict(x_test)\n",
    "        abc=confusion_matrix_metrics(y_test, y_pred)\n",
    "\n",
    "        mlflow.log_metric(\"mean_tp\", abc['TP'])\n",
    "        mlflow.log_metric(\"mean_tn\", abc['TN'])\n",
    "        mlflow.log_metric(\"mean_fp\", abc['FP'])\n",
    "        mlflow.log_metric(\"mean_fn\", abc['FN'])\n",
    "        \n",
    "        # Log the trained model\n",
    "        mlflow.sklearn.log_model(pipeline, f\"{model_name}_Model\")\n",
    "        mlflow.end_run()\n",
    "        return cv_results\n",
    "\n",
    "\n"
   ]
  },
  {
   "cell_type": "code",
   "execution_count": 24,
   "metadata": {},
   "outputs": [
    {
     "name": "stderr",
     "output_type": "stream",
     "text": [
      "2024/12/21 17:08:00 WARNING mlflow.models.model: Model logged without a signature and input example. Please set `input_example` parameter when logging the model to auto infer the model signature.\n"
     ]
    },
    {
     "name": "stdout",
     "output_type": "stream",
     "text": [
      "🏃 View run mysterious-snail-253 at: https://dagshub.com/gc54/EAS503_Project.mlflow/#/experiments/0/runs/4d8a0eb0608e4417a7e7798be38e70b6\n",
      "🧪 View experiment at: https://dagshub.com/gc54/EAS503_Project.mlflow/#/experiments/0\n"
     ]
    }
   ],
   "source": [
    "# Example usage with different classifiers:\n",
    "# Logistic Regression\n",
    "log_reg = LogisticRegression()\n",
    "log_reg_results = run_model(log_reg, \"Logistic Regression\", x_train, y_train)\n",
    "\n"
   ]
  },
  {
   "cell_type": "code",
   "execution_count": 25,
   "metadata": {},
   "outputs": [
    {
     "name": "stderr",
     "output_type": "stream",
     "text": [
      "2024/12/21 17:08:15 WARNING mlflow.models.model: Model logged without a signature and input example. Please set `input_example` parameter when logging the model to auto infer the model signature.\n"
     ]
    },
    {
     "name": "stdout",
     "output_type": "stream",
     "text": [
      "🏃 View run popular-fly-774 at: https://dagshub.com/gc54/EAS503_Project.mlflow/#/experiments/0/runs/6d81f0558e2a4c1bae30fe80c80bbebc\n",
      "🧪 View experiment at: https://dagshub.com/gc54/EAS503_Project.mlflow/#/experiments/0\n"
     ]
    }
   ],
   "source": [
    "# Ridge Classifier\n",
    "ridge_clf = RidgeClassifier()\n",
    "ridge_results = run_model(ridge_clf, \"Ridge Classifier\", x_train, y_train)\n",
    "\n"
   ]
  },
  {
   "cell_type": "code",
   "execution_count": 26,
   "metadata": {},
   "outputs": [
    {
     "name": "stdout",
     "output_type": "stream",
     "text": [
      "🏃 View run nimble-moth-88 at: https://dagshub.com/gc54/EAS503_Project.mlflow/#/experiments/0/runs/04da9ba585fe4843a4cc92dbded28836\n",
      "🧪 View experiment at: https://dagshub.com/gc54/EAS503_Project.mlflow/#/experiments/0\n"
     ]
    }
   ],
   "source": [
    "# Random Forest Classifier\n",
    "rf_clf = RandomForestClassifier()\n",
    "rf_results = run_model(rf_clf, \"Random Forest\", x_train, y_train)\n",
    "\n"
   ]
  },
  {
   "cell_type": "code",
   "execution_count": 27,
   "metadata": {},
   "outputs": [],
   "source": [
    "# # XGBoost Classifier\n",
    "# xgb_clf = xgb.XGBClassifier(eval_metric='mlogloss')\n",
    "# xgb_results = run_model(xgb_clf, \"XGBoost\", x_train, y_train)"
   ]
  },
  {
   "cell_type": "markdown",
   "metadata": {},
   "source": [
    "Experiment 3 - Grouped two of the columns that are better understood in range than the number itself"
   ]
  },
  {
   "cell_type": "code",
   "execution_count": 28,
   "metadata": {},
   "outputs": [],
   "source": [
    "from sklearn.metrics import f1_score, confusion_matrix, make_scorer\n",
    "import mlflow\n",
    "import mlflow.sklearn\n",
    "import numpy as np\n",
    "from sklearn.model_selection import StratifiedKFold, cross_validate\n",
    "from sklearn.pipeline import Pipeline\n",
    "from sklearn.preprocessing import StandardScaler, OneHotEncoder\n",
    "from sklearn.compose import ColumnTransformer\n",
    "from sklearn.impute import SimpleImputer\n",
    "from sklearn.linear_model import LogisticRegression\n",
    "from sklearn.ensemble import RandomForestClassifier\n",
    "from sklearn.linear_model import RidgeClassifier\n",
    "\n",
    "# Define numeric and categorical columns\n",
    "\n",
    "x_train2=x_train.copy(deep=True)\n",
    "x_test2=x_test.copy(deep=True)\n",
    "\n",
    "x_train2['age_group']=pd.cut(x_train2['age'], bins=[20, 30, 40, 50, 60], labels=[\"20-30\", \"30-40\", \"40-50\", \"50-60\"])\n",
    "x_train2['weekly_hours_range']=pd.cut(x_train2['hours_per_week'], bins=[0,35, 50, 70,100], labels=[\"0-35\", \"35-50\", \"50-70\", \"70-100\"])\n",
    "\n",
    "x_train2['age_group'] = x_train2['age_group'].astype('object')\n",
    "x_train2['weekly_hours_range'] = x_train2['age_group'].astype('object')\n",
    "\n",
    "x_test2['age_group']=pd.cut(x_test2['age'], bins=[20, 30, 40, 50, 60], labels=[\"20-30\", \"30-40\", \"40-50\", \"50-60\"])\n",
    "x_test2['weekly_hours_range']=pd.cut(x_test2['hours_per_week'], bins=[0,35, 50, 70,100], labels=[\"0-35\", \"35-50\", \"50-70\", \"70-100\"])\n",
    "\n",
    "x_test2['age_group'] = x_test2['age_group'].astype('object')\n",
    "x_test2['weekly_hours_range'] = x_test2['age_group'].astype('object')\n",
    "\n",
    "numeric_features = x_train2.select_dtypes(include=['int64', 'float64']).columns.tolist()\n",
    "categorical_features = x_train2.select_dtypes(include=['object']).columns.tolist()\n",
    "\n",
    "# Preprocessing for numeric data: Scaling & imputation\n",
    "numeric_transformer = Pipeline(steps=[\n",
    "    ('imputer', SimpleImputer(strategy='mean')),\n",
    "    ('scaler', StandardScaler())  # Can replace with MinMaxScaler if needed\n",
    "])\n",
    "\n",
    "# Preprocessing for categorical data: Imputation & OneHotEncoding\n",
    "categorical_transformer = Pipeline(steps=[\n",
    "    ('imputer', SimpleImputer(strategy='constant', fill_value='missing')),\n",
    "    ('onehot', OneHotEncoder(handle_unknown='ignore'))\n",
    "])\n",
    "\n",
    "# Combine both into a ColumnTransformer\n",
    "preprocessor = ColumnTransformer(\n",
    "    transformers=[\n",
    "        ('num', numeric_transformer, numeric_features),\n",
    "        ('cat', categorical_transformer, categorical_features)\n",
    "    ]\n",
    ")\n",
    "\n",
    "# Custom scoring function for confusion matrix\n",
    "def confusion_matrix_metrics(y_true, y_pred):\n",
    "    cm = confusion_matrix(y_true, y_pred)\n",
    "    tn, fp, fn, tp = cm.ravel()\n",
    "    return {\n",
    "        'TP': tp,\n",
    "        'TN': tn,\n",
    "        'FP': fp,\n",
    "        'FN': fn\n",
    "    }\n",
    "\n",
    "# Define scoring function for cross-validation\n",
    "scoring = {\n",
    "    'f1': make_scorer(f1_score, average='weighted'),\n",
    "    'conf_matrix': make_scorer(confusion_matrix_metrics)\n",
    "}\n",
    "\n",
    "# Function to run and log results for different models, and return cv_results\n",
    "def run_model2(model, model_name, x_train2, y_train):\n",
    "    pipeline = Pipeline(steps=[('preprocessor', preprocessor),\n",
    "                               ('classifier', model)])\n",
    "\n",
    "    stratified_kfold = StratifiedKFold(n_splits=5, shuffle=True, random_state=42)\n",
    "    \n",
    "    with mlflow.start_run(run_name=model_name,nested=True):\n",
    "        mlflow.log_param(\"classifier after feature engineering\", model_name)\n",
    "        \n",
    "        # Perform cross-validation\n",
    "        cv_results = cross_validate(pipeline, x_train2, y_train, cv=stratified_kfold, scoring='f1', return_train_score=True)\n",
    "        \n",
    "        # Log F1-score results\n",
    "        mlflow.log_metric(\"mean_f1\", cv_results['test_score'].mean())\n",
    "        mlflow.log_metric(\"std_f1\", cv_results['test_score'].std())\n",
    "        \n",
    "        # Log confusion matrix results\n",
    "        pipeline.fit(x_train2,y_train)\n",
    "        y_pred=pipeline.predict(x_test2)\n",
    "        abc=confusion_matrix_metrics(y_test, y_pred)\n",
    "\n",
    "        mlflow.log_metric(\"mean_tp\", abc['TP'])\n",
    "        mlflow.log_metric(\"mean_tn\", abc['TN'])\n",
    "        mlflow.log_metric(\"mean_fp\", abc['FP'])\n",
    "        mlflow.log_metric(\"mean_fn\", abc['FN'])\n",
    "        \n",
    "        # Log the trained model\n",
    "        mlflow.sklearn.log_model(pipeline, f\"{model_name}_Model\")\n",
    "        \n",
    "        return cv_results\n"
   ]
  },
  {
   "cell_type": "code",
   "execution_count": 29,
   "metadata": {},
   "outputs": [
    {
     "name": "stderr",
     "output_type": "stream",
     "text": [
      "2024/12/20 21:29:21 WARNING mlflow.models.model: Model logged without a signature and input example. Please set `input_example` parameter when logging the model to auto infer the model signature.\n"
     ]
    },
    {
     "name": "stdout",
     "output_type": "stream",
     "text": [
      "🏃 View run Logistic Regression at: https://dagshub.com/gc54/EAS503_Project.mlflow/#/experiments/0/runs/528539bda1e7410c9f847ddfe441e03d\n",
      "🧪 View experiment at: https://dagshub.com/gc54/EAS503_Project.mlflow/#/experiments/0\n"
     ]
    },
    {
     "name": "stderr",
     "output_type": "stream",
     "text": [
      "2024/12/20 21:29:34 WARNING mlflow.models.model: Model logged without a signature and input example. Please set `input_example` parameter when logging the model to auto infer the model signature.\n"
     ]
    },
    {
     "name": "stdout",
     "output_type": "stream",
     "text": [
      "🏃 View run Ridge Classifier at: https://dagshub.com/gc54/EAS503_Project.mlflow/#/experiments/0/runs/d92c0518cada43418ae969c08e4905ee\n",
      "🧪 View experiment at: https://dagshub.com/gc54/EAS503_Project.mlflow/#/experiments/0\n"
     ]
    },
    {
     "name": "stderr",
     "output_type": "stream",
     "text": [
      "2024/12/20 21:32:23 WARNING mlflow.models.model: Model logged without a signature and input example. Please set `input_example` parameter when logging the model to auto infer the model signature.\n"
     ]
    },
    {
     "name": "stdout",
     "output_type": "stream",
     "text": [
      "🏃 View run Random Forest at: https://dagshub.com/gc54/EAS503_Project.mlflow/#/experiments/0/runs/bc2c900a06644a58b6aca5c6862d553c\n",
      "🧪 View experiment at: https://dagshub.com/gc54/EAS503_Project.mlflow/#/experiments/0\n"
     ]
    }
   ],
   "source": [
    "# Example usage with different classifiers:\n",
    "# Logistic Regression\n",
    "log_reg = LogisticRegression()\n",
    "log_reg_results2 = run_model2(log_reg, \"Logistic Regression\", x_train2, y_train)\n",
    "\n",
    "\n",
    "# Ridge Classifier\n",
    "ridge_clf = RidgeClassifier()\n",
    "ridge_results2 = run_model2(ridge_clf, \"Ridge Classifier\", x_train2, y_train)\n",
    "\n",
    "\n",
    "# Random Forest Classifier\n",
    "rf_clf = RandomForestClassifier()\n",
    "rf_results2 = run_model2(rf_clf, \"Random Forest\", x_train2, y_train)\n",
    "\n"
   ]
  },
  {
   "cell_type": "markdown",
   "metadata": {},
   "source": [
    "Feature Selection using correlation, variance analysis, VIP"
   ]
  },
  {
   "cell_type": "code",
   "execution_count": 30,
   "metadata": {},
   "outputs": [
    {
     "name": "stdout",
     "output_type": "stream",
     "text": [
      "🏃 View run Feature corrlation at: https://dagshub.com/gc54/EAS503_Project.mlflow/#/experiments/0/runs/228e2432909f46ce99cc33a854794344\n",
      "🧪 View experiment at: https://dagshub.com/gc54/EAS503_Project.mlflow/#/experiments/0\n"
     ]
    }
   ],
   "source": [
    "import pandas as pd\n",
    "import numpy as np\n",
    "from sklearn.ensemble import RandomForestClassifier\n",
    "from sklearn.feature_selection import VarianceThreshold\n",
    "from sklearn.model_selection import train_test_split\n",
    "import mlflow\n",
    "\n",
    "\n",
    "numeric_features = x_train.select_dtypes(include=['int64', 'float64']).columns.tolist()\n",
    "categorical_features = x_train.select_dtypes(include=['object']).columns.tolist()\n",
    "\n",
    "mlflow.start_run(run_name=\"Feature corrlation\",nested=True)\n",
    "\n",
    "# Step 1: Correlation Threshold (Only for numeric columns)\n",
    "numeric_data = x_train[numeric_features]\n",
    "correlation_matrix = numeric_data.corr()\n",
    "correlation_threshold = 0.85\n",
    "to_drop = []\n",
    "\n",
    "for i in range(correlation_matrix.shape[1]):\n",
    "    for j in range(i):\n",
    "        if abs(correlation_matrix.iloc[i, j]) > correlation_threshold:\n",
    "            colname = correlation_matrix.columns[i]\n",
    "            to_drop.append(colname)\n",
    "\n",
    "X_corr = numeric_data.drop(columns=to_drop)\n",
    "mlflow.log_metric(\"Features_After_Correlation_Filter\", X_corr.shape[1])\n",
    "mlflow.log_text(f\"Removed features (Correlation Threshold): {to_drop}\", \"correlation_filter.txt\")\n",
    "\n",
    "mlflow.end_run()\n",
    "\n"
   ]
  },
  {
   "cell_type": "markdown",
   "metadata": {},
   "source": [
    "Since there are no correlated features to remove, we are not taking any steps of removing the features"
   ]
  },
  {
   "cell_type": "code",
   "execution_count": 31,
   "metadata": {},
   "outputs": [
    {
     "name": "stdout",
     "output_type": "stream",
     "text": [
      "🏃 View run Variance Threshold at: https://dagshub.com/gc54/EAS503_Project.mlflow/#/experiments/0/runs/8148a8d6b2124a6497fc1ccb53dcab37\n",
      "🧪 View experiment at: https://dagshub.com/gc54/EAS503_Project.mlflow/#/experiments/0\n"
     ]
    }
   ],
   "source": [
    "# Preprocessing for numeric data: Scaling & imputation\n",
    "numeric_transformer = Pipeline(steps=[\n",
    "    ('imputer', SimpleImputer(strategy='mean')),\n",
    "    ('scaler', StandardScaler())  # Can replace with MinMaxScaler if needed\n",
    "])\n",
    "\n",
    "# Preprocessing for categorical data: Imputation & OneHotEncoding\n",
    "categorical_transformer = Pipeline(steps=[\n",
    "    ('imputer', SimpleImputer(strategy='constant', fill_value='missing')),\n",
    "    ('onehot', OneHotEncoder(handle_unknown='ignore'))\n",
    "])\n",
    "\n",
    "# Combine both into a ColumnTransformer\n",
    "preprocessor = ColumnTransformer(\n",
    "    transformers=[\n",
    "        ('num', numeric_transformer, numeric_features),\n",
    "        ('cat', categorical_transformer, categorical_features)\n",
    "    ]\n",
    ")\n",
    "\n",
    "x_transformed=preprocessor.fit_transform(x_train)\n",
    "\n",
    "mlflow.start_run(run_name=\"Variance Threshold\",nested=True)\n",
    "\n",
    "# Step 1: Variance Threshold\n",
    "vt = VarianceThreshold(threshold=0.01)  # Remove low variance features\n",
    "x_var = vt.fit_transform(x_transformed)\n",
    "selected_features_var = np.array(preprocessor.get_feature_names_out())[vt.get_support()]\n",
    "\n",
    "mlflow.log_metric(\"Features_After_Variance_Threshold\", len(selected_features_var))\n",
    "mlflow.log_text(f\"Selected features (Variance Threshold): {list(selected_features_var)}\", \"variance_threshold.txt\")\n",
    "\n",
    "\n",
    "\n",
    "# End MLFlow\n",
    "mlflow.end_run()"
   ]
  },
  {
   "cell_type": "code",
   "execution_count": 32,
   "metadata": {},
   "outputs": [
    {
     "name": "stdout",
     "output_type": "stream",
     "text": [
      "🏃 View run Important Features at: https://dagshub.com/gc54/EAS503_Project.mlflow/#/experiments/0/runs/f7272339fc7a49e98083d3c2bdb44556\n",
      "🧪 View experiment at: https://dagshub.com/gc54/EAS503_Project.mlflow/#/experiments/0\n"
     ]
    }
   ],
   "source": [
    "\n",
    "mlflow.start_run(run_name=\"Important Features\",nested=True)\n",
    "# Step 3: Feature Importance (Random Forest on the fully transformed dataset)\n",
    "rf = RandomForestClassifier(random_state=42)\n",
    "rf.fit(x_var, y_train)\n",
    "\n",
    "# Feature importance\n",
    "importance = rf.feature_importances_\n",
    "selected_features_rf = np.array(selected_features_var)[np.argsort(importance)[::-1][:5]]  # Top 5 features\n",
    "\n",
    "mlflow.log_metric(\"Top_Features_Count\", len(selected_features_rf))\n",
    "mlflow.log_text(f\"Top features (Random Forest): {list(selected_features_rf)}\", \"feature_importance.txt\")\n",
    "\n",
    "# Log Final Dataset\n",
    "final_features = selected_features_rf\n",
    "mlflow.log_metric(\"Final_Features_Count\", len(final_features))\n",
    "mlflow.log_text(f\"Final features selected: {list(final_features)}\", \"final_features.txt\")\n",
    "\n",
    "mlflow.end_run()\n",
    "\n"
   ]
  },
  {
   "cell_type": "markdown",
   "metadata": {},
   "source": [
    "PCA"
   ]
  },
  {
   "cell_type": "code",
   "execution_count": 33,
   "metadata": {},
   "outputs": [],
   "source": [
    "from sklearn.compose import ColumnTransformer\n",
    "from sklearn.preprocessing import OneHotEncoder, StandardScaler\n",
    "from sklearn.decomposition import PCA\n",
    "from sklearn.pipeline import Pipeline\n",
    "from sklearn.linear_model import LogisticRegression\n",
    "from sklearn.model_selection import train_test_split\n",
    "from sklearn.metrics import f1_score, confusion_matrix\n",
    "import mlflow\n",
    "import matplotlib.pyplot as plt\n",
    "import pandas as pd\n",
    "import numpy as np"
   ]
  },
  {
   "cell_type": "code",
   "execution_count": 34,
   "metadata": {},
   "outputs": [
    {
     "data": {
      "image/png": "[encoded data removed]",
      "text/plain": [
       "<Figure size 1000x600 with 1 Axes>"
      ]
     },
     "metadata": {},
     "output_type": "display_data"
    }
   ],
   "source": [
    "numeric_features = x_train.select_dtypes(include=['int64', 'float64']).columns.tolist()\n",
    "categorical_features = x_train.select_dtypes(include=['object']).columns.tolist()\n",
    "\n",
    "# Preprocessing for numeric data: Scaling & imputation\n",
    "numeric_transformer = Pipeline(steps=[\n",
    "    ('imputer', SimpleImputer(strategy='mean')),\n",
    "    ('scaler', StandardScaler())  # Can replace with MinMaxScaler if needed\n",
    "])\n",
    "\n",
    "# Preprocessing for categorical data: Imputation & OneHotEncoding\n",
    "categorical_transformer = Pipeline(steps=[\n",
    "    ('imputer', SimpleImputer(strategy='constant', fill_value='missing')),\n",
    "    ('onehot', OneHotEncoder(handle_unknown='ignore'))\n",
    "])\n",
    "\n",
    "# Combine both into a ColumnTransformer\n",
    "preprocessor = ColumnTransformer(\n",
    "    transformers=[\n",
    "        ('num', numeric_transformer, numeric_features),\n",
    "        ('cat', categorical_transformer, categorical_features)\n",
    "    ]\n",
    ")\n",
    "\n",
    "pca = PCA()  # Full PCA initially for scree plot\n",
    "\n",
    "# Pipeline with Preprocessing and PCA\n",
    "pipeline = Pipeline(steps=[\n",
    "    (\"preprocessor\", preprocessor),\n",
    "    (\"pca\", pca)\n",
    "])\n",
    "\n",
    "# Fit PCA on Training Data\n",
    "pipeline.fit(x_train)\n",
    "X_train_transformed = pipeline.transform(x_train)\n",
    "\n",
    "# Scree Plot\n",
    "explained_variance_ratio = pipeline.named_steps[\"pca\"].explained_variance_ratio_\n",
    "cumulative_variance = np.cumsum(explained_variance_ratio)\n",
    "\n",
    "#Identify components contributing to 95% variance\n",
    "n_components = np.argmax(cumulative_variance >= 0.95) + 1\n",
    "\n",
    "plt.figure(figsize=(10, 6))\n",
    "plt.plot(range(1, len(cumulative_variance) + 1), cumulative_variance, marker='o', linestyle='--', color='b')\n",
    "plt.xlabel('Number of Principal Components')\n",
    "plt.ylabel('Cumulative Explained Variance')\n",
    "plt.title('Scree Plot')\n",
    "plt.grid()\n",
    "plt.axvline(x=n_components, color='r', linestyle='--', label=f\"95% Variance ({n_components} Components)\")\n",
    "figure_path = \"scree_plot.png\"\n",
    "plt.savefig(figure_path)\n",
    "plt.show()\n",
    "\n",
    "# Save the figure locally\n",
    "\n",
    "    \n"
   ]
  },
  {
   "cell_type": "code",
   "execution_count": 35,
   "metadata": {},
   "outputs": [
    {
     "name": "stderr",
     "output_type": "stream",
     "text": [
      "2024/12/20 21:34:35 WARNING mlflow.models.model: Model logged without a signature and input example. Please set `input_example` parameter when logging the model to auto infer the model signature.\n"
     ]
    },
    {
     "name": "stdout",
     "output_type": "stream",
     "text": [
      "🏃 View run PCA and Logistic Regression at: https://dagshub.com/gc54/EAS503_Project.mlflow/#/experiments/0/runs/55ed1498de164b9fba98eab4ddcdff2d\n",
      "🧪 View experiment at: https://dagshub.com/gc54/EAS503_Project.mlflow/#/experiments/0\n"
     ]
    }
   ],
   "source": [
    "\n",
    "\n",
    "# Update Pipeline with Selected Components\n",
    "pipeline = Pipeline(steps=[\n",
    "    (\"preprocessor\", preprocessor),\n",
    "    (\"pca\", PCA(n_components=n_components)),\n",
    "    (\"classifier\", LogisticRegression())\n",
    "])\n",
    "\n",
    "# Model Training and Evaluation\n",
    "pipeline.fit(x_train, y_train)\n",
    "y_pred = pipeline.predict(x_test)\n",
    "\n",
    "f1 = f1_score(y_test, y_pred)\n",
    "conf_matrix = confusion_matrix(y_test, y_pred)\n",
    "\n",
    "# Log Results in MLFlow\n",
    "with mlflow.start_run(run_name='PCA and Logistic Regression',nested=True):\n",
    "    mlflow.log_param(\"Model\", \"Logistic Regression\")\n",
    "    mlflow.log_param(\"PCA Components\", n_components)\n",
    "    mlflow.log_metric(\"F1 Score\", f1)\n",
    "    mlflow.log_dict({\"confusion_matrix\": conf_matrix.tolist()}, \"confusion_matrix.json\")\n",
    "    mlflow.log_artifact(figure_path)\n",
    "    mlflow.sklearn.log_model(pipeline, \"pca with logistic regression\")"
   ]
  },
  {
   "cell_type": "markdown",
   "metadata": {},
   "source": [
    "KNN"
   ]
  },
  {
   "cell_type": "code",
   "execution_count": 36,
   "metadata": {},
   "outputs": [
    {
     "name": "stderr",
     "output_type": "stream",
     "text": [
      "2024/12/20 23:08:37 WARNING mlflow.models.model: Model logged without a signature and input example. Please set `input_example` parameter when logging the model to auto infer the model signature.\n"
     ]
    },
    {
     "name": "stdout",
     "output_type": "stream",
     "text": [
      "🏃 View run KNN at: https://dagshub.com/gc54/EAS503_Project.mlflow/#/experiments/0/runs/f4c2c0cf6d8a460e9888a7d1ed57eabe\n",
      "🧪 View experiment at: https://dagshub.com/gc54/EAS503_Project.mlflow/#/experiments/0\n"
     ]
    }
   ],
   "source": [
    "import mlflow\n",
    "import mlflow.sklearn\n",
    "from sklearn.model_selection import StratifiedKFold, cross_validate\n",
    "from sklearn.pipeline import Pipeline\n",
    "from sklearn.neighbors import KNeighborsClassifier\n",
    "from sklearn.preprocessing import StandardScaler\n",
    "from sklearn.compose import ColumnTransformer\n",
    "from sklearn.impute import SimpleImputer\n",
    "from sklearn.model_selection import train_test_split\n",
    "from sklearn.metrics import make_scorer, f1_score, confusion_matrix\n",
    "import pandas as pd\n",
    "\n",
    "# Assuming x_train and y_train are already defined\n",
    "# Custom scoring function for confusion matrix\n",
    "\n",
    "\n",
    "# Define preprocessor for numeric and categorical columns\n",
    "preprocessor = ColumnTransformer(\n",
    "    transformers=[\n",
    "        ('num', Pipeline(steps=[\n",
    "            ('imputer', SimpleImputer(strategy='mean')),\n",
    "            ('scaler', StandardScaler())\n",
    "        ]), numeric_features),\n",
    "        ('cat', Pipeline(steps=[\n",
    "            ('imputer', SimpleImputer(strategy='constant', fill_value='missing')),\n",
    "            ('onehot', OneHotEncoder(handle_unknown='ignore'))\n",
    "        ]), categorical_features)\n",
    "    ]\n",
    ")\n",
    "\n",
    "# Initialize the KNN classifier\n",
    "knn = KNeighborsClassifier(n_neighbors=2)\n",
    "\n",
    "# Define the pipeline\n",
    "pipeline = Pipeline(steps=[('preprocessor', preprocessor),\n",
    "                            ('classifier', knn)])\n",
    "\n",
    "# Cross-validation\n",
    "stratified_kfold = StratifiedKFold(n_splits=5, shuffle=True, random_state=42)\n",
    "scoring = {'f1': make_scorer(f1_score), 'conf_matrix': make_scorer(confusion_matrix)}\n",
    "\n",
    "# Log results to MLFlow\n",
    "mlflow.start_run(run_name='KNN',nested=True)\n",
    "mlflow.log_param(\"classifier\", \"K-Nearest Neighbors\")\n",
    "\n",
    "# Perform cross-validation\n",
    "cv_results_knn = cross_validate(pipeline, x_train, y_train, cv=stratified_kfold, scoring='f1', return_train_score=True)\n",
    "\n",
    "# Log metrics and confusion matrix\n",
    "mlflow.log_metric(\"mean_f1\", cv_results_knn['test_score'].mean())\n",
    "mlflow.log_metric(\"std_f1\", cv_results_knn['test_score'].std())\n",
    "mlflow.log_param(\"n_neighbors\", 2)\n",
    "# Model Training and Evaluation\n",
    "pipeline.fit(x_train, y_train)\n",
    "y_pred = pipeline.predict(x_test)\n",
    "\n",
    "f1 = f1_score(y_test, y_pred)\n",
    "conf_matrix = confusion_matrix_metrics(y_test, y_pred)\n",
    "\n",
    "mlflow.log_metric(\"mean_tp\", conf_matrix['TP'])\n",
    "mlflow.log_metric(\"mean_tn\", conf_matrix['TN'])\n",
    "mlflow.log_metric(\"mean_fp\", conf_matrix['FP'])\n",
    "mlflow.log_metric(\"mean_fn\", conf_matrix['FN'])\n",
    "\n",
    "# Log confusion matrix and other metrics for further analysis\n",
    "\n",
    "# Log the model\n",
    "mlflow.sklearn.log_model(pipeline, \"knn_model\")\n",
    "\n",
    "mlflow.end_run()\n"
   ]
  },
  {
   "cell_type": "markdown",
   "metadata": {},
   "source": [
    "SVM"
   ]
  },
  {
   "cell_type": "code",
   "execution_count": 37,
   "metadata": {},
   "outputs": [
    {
     "name": "stderr",
     "output_type": "stream",
     "text": [
      "2024/12/20 23:14:33 WARNING mlflow.models.model: Model logged without a signature and input example. Please set `input_example` parameter when logging the model to auto infer the model signature.\n"
     ]
    },
    {
     "name": "stdout",
     "output_type": "stream",
     "text": [
      "🏃 View run SVM at: https://dagshub.com/gc54/EAS503_Project.mlflow/#/experiments/0/runs/b45fec77732746af87c8476989035002\n",
      "🧪 View experiment at: https://dagshub.com/gc54/EAS503_Project.mlflow/#/experiments/0\n",
      "🏃 View run agreeable-pug-189 at: https://dagshub.com/gc54/EAS503_Project.mlflow/#/experiments/0/runs/a49c6a6380d642c690552779bd456879\n",
      "🧪 View experiment at: https://dagshub.com/gc54/EAS503_Project.mlflow/#/experiments/0\n"
     ]
    }
   ],
   "source": [
    "import mlflow\n",
    "import mlflow.sklearn\n",
    "from sklearn.model_selection import StratifiedKFold, cross_validate\n",
    "from sklearn.pipeline import Pipeline\n",
    "from sklearn.svm import SVC\n",
    "from sklearn.preprocessing import StandardScaler\n",
    "from sklearn.compose import ColumnTransformer\n",
    "from sklearn.impute import SimpleImputer\n",
    "from sklearn.model_selection import train_test_split\n",
    "from sklearn.metrics import make_scorer, f1_score, confusion_matrix\n",
    "import pandas as pd\n",
    "\n",
    "\n",
    "\n",
    "# Define preprocessor for numeric and categorical columns\n",
    "preprocessor = ColumnTransformer(\n",
    "    transformers=[\n",
    "        ('num', Pipeline(steps=[\n",
    "            ('imputer', SimpleImputer(strategy='mean')),\n",
    "            ('scaler', StandardScaler())\n",
    "        ]), numeric_features),\n",
    "        ('cat', Pipeline(steps=[\n",
    "            ('imputer', SimpleImputer(strategy='constant', fill_value='missing')),\n",
    "            ('onehot', OneHotEncoder(handle_unknown='ignore'))\n",
    "        ]), categorical_features)\n",
    "    ]\n",
    ")\n",
    "\n",
    "# Initialize the SVM classifier\n",
    "svm = SVC(kernel='linear', random_state=42)\n",
    "\n",
    "# Define the pipeline\n",
    "pipeline = Pipeline(steps=[('preprocessor', preprocessor),\n",
    "                            ('classifier', svm)])\n",
    "\n",
    "# Cross-validation\n",
    "stratified_kfold = StratifiedKFold(n_splits=5, shuffle=True, random_state=42)\n",
    "scoring = {'f1': make_scorer(f1_score), 'conf_matrix': make_scorer(confusion_matrix)}\n",
    "\n",
    "# Log results to MLFlow\n",
    "with mlflow.start_run(run_name='SVM',nested=True):\n",
    "    mlflow.log_param(\"classifier\", \"Support Vector Machine\")\n",
    "    \n",
    "    # Perform cross-validation\n",
    "    cv_results_svm = cross_validate(pipeline, x_train, y_train, cv=stratified_kfold, scoring='f1', return_train_score=True)\n",
    "    \n",
    "    # Log metrics and confusion matrix\n",
    "    mlflow.log_metric(\"mean_f1\", cv_results_svm['test_score'].mean())\n",
    "    mlflow.log_metric(\"std_f1\", cv_results_svm['test_score'].std())\n",
    "    # Model Training and Evaluation\n",
    "    pipeline.fit(x_train, y_train)\n",
    "    y_pred = pipeline.predict(x_test)\n",
    "\n",
    "    f1 = f1_score(y_test, y_pred)\n",
    "    conf_matrix = confusion_matrix_metrics(y_test, y_pred)\n",
    "\n",
    "    mlflow.log_metric(\"mean_tp\", conf_matrix['TP'])\n",
    "    mlflow.log_metric(\"mean_tn\", conf_matrix['TN'])\n",
    "    mlflow.log_metric(\"mean_fp\", conf_matrix['FP'])\n",
    "    mlflow.log_metric(\"mean_fn\", conf_matrix['FN'])\n",
    "\n",
    "    # Log the model\n",
    "    mlflow.sklearn.log_model(pipeline, \"svm_model\")\n",
    "\n",
    "mlflow.end_run()\n"
   ]
  },
  {
   "cell_type": "markdown",
   "metadata": {},
   "source": [
    "F1 Score Comparison and Model Selection"
   ]
  },
  {
   "cell_type": "code",
   "execution_count": 38,
   "metadata": {},
   "outputs": [],
   "source": [
    "model_performance={}\n",
    "model_performance['LR']=log_reg_results['test_score']\n",
    "model_performance['Ridge']=ridge_results['test_score']\n",
    "model_performance['RF']=rf_results['test_score']\n",
    "model_performance['KNN']=log_reg_results['test_score']\n",
    "model_performance['SVM']=log_reg_results['test_score']\n",
    "\n",
    "mean_model_performance={}\n",
    "mean_model_performance['LR']=model_performance['LR'].mean()\n",
    "mean_model_performance['Ridge']=model_performance['Ridge'].mean()\n",
    "mean_model_performance['RF']=model_performance['RF'].mean()\n",
    "mean_model_performance['KNN']=model_performance['KNN'].mean()\n",
    "mean_model_performance['SVM']=model_performance['SVM'].mean()"
   ]
  },
  {
   "cell_type": "code",
   "execution_count": 39,
   "metadata": {},
   "outputs": [
    {
     "name": "stderr",
     "output_type": "stream",
     "text": [
      "C:\\Users\\cgaur\\AppData\\Local\\Temp\\ipykernel_11620\\1054637025.py:5: FutureWarning: \n",
      "\n",
      "Passing `palette` without assigning `hue` is deprecated and will be removed in v0.14.0. Assign the `x` variable to `hue` and set `legend=False` for the same effect.\n",
      "\n",
      "  ax=sns.barplot(data=df, x='Model', y='F1 Score', palette='Blues_d')\n"
     ]
    },
    {
     "name": "stdout",
     "output_type": "stream",
     "text": [
      "🏃 View run Overall Model Results at: https://dagshub.com/gc54/EAS503_Project.mlflow/#/experiments/0/runs/792126453ec24aef9008f9cc88c02402\n",
      "🧪 View experiment at: https://dagshub.com/gc54/EAS503_Project.mlflow/#/experiments/0\n"
     ]
    },
    {
     "data": {
      "image/png": "[encoded data removed]",
      "text/plain": [
       "<Figure size 1000x600 with 1 Axes>"
      ]
     },
     "metadata": {},
     "output_type": "display_data"
    }
   ],
   "source": [
    "df = pd.DataFrame(list(mean_model_performance.items()), columns=['Model', 'F1 Score'])\n",
    "\n",
    "# Plotting using seaborn\n",
    "plt.figure(figsize=(10, 6))\n",
    "ax=sns.barplot(data=df, x='Model', y='F1 Score', palette='Blues_d')\n",
    "for p in ax.patches:\n",
    "    ax.annotate(f'{p.get_height():.2f}', \n",
    "                (p.get_x() + p.get_width() / 2., p.get_height()), \n",
    "                ha='center', va='center', fontsize=12, color='black', \n",
    "                xytext=(0, 10), textcoords='offset points')\n",
    "\n",
    "plt.title('F1 Scores of Different Models')\n",
    "plt.xlabel('Models')\n",
    "plt.ylabel('F1 Score')\n",
    "plt.xticks(rotation=45)\n",
    "plt.tight_layout()\n",
    "figure_path_model_performances='overall_model_performance.png'\n",
    "plt.savefig(figure_path_model_performances)\n",
    "\n",
    "best_model_f1=0\n",
    "best_model_name=''\n",
    "\n",
    "for key,value in mean_model_performance.items():\n",
    "    if value>best_model_f1:\n",
    "        best_model_f1=value\n",
    "        best_model_name=key\n",
    "    else:\n",
    "        continue\n",
    "\n",
    "\n",
    "mlflow.start_run(run_name='Overall Model Results',nested=True)\n",
    "mlflow.log_param(\"Best Model\", best_model_name)\n",
    "mlflow.log_metric(\"Best Model F1\", best_model_f1)\n",
    "mlflow.log_dict(mean_model_performance, \"Mean_Performance.json\")\n",
    "mlflow.log_dict(model_performance, \"Model_Performance.json\")\n",
    "mlflow.log_artifact(figure_path_model_performances)\n",
    "\n",
    "mlflow.end_run()\n",
    "\n"
   ]
  },
  {
   "cell_type": "markdown",
   "metadata": {},
   "source": [
    "Saving the Model with Preprocessing to Joblib"
   ]
  },
  {
   "cell_type": "code",
   "execution_count": 40,
   "metadata": {},
   "outputs": [
    {
     "name": "stderr",
     "output_type": "stream",
     "text": [
      "2024/12/20 23:15:19 WARNING mlflow.models.model: Model logged without a signature and input example. Please set `input_example` parameter when logging the model to auto infer the model signature.\n"
     ]
    },
    {
     "name": "stdout",
     "output_type": "stream",
     "text": [
      "🏃 View run Final Model at: https://dagshub.com/gc54/EAS503_Project.mlflow/#/experiments/0/runs/9e357fb935584d7b9282a7984db49d5c\n",
      "🧪 View experiment at: https://dagshub.com/gc54/EAS503_Project.mlflow/#/experiments/0\n"
     ]
    }
   ],
   "source": [
    "from sklearn.pipeline import Pipeline\n",
    "from sklearn.ensemble import RandomForestClassifier\n",
    "from sklearn.compose import ColumnTransformer\n",
    "from sklearn.preprocessing import StandardScaler, OneHotEncoder\n",
    "from sklearn.impute import SimpleImputer\n",
    "\n",
    "\n",
    "# Preprocessing for numeric data: Scaling & imputation\n",
    "numeric_transformer = Pipeline(steps=[\n",
    "    ('imputer', SimpleImputer(strategy='mean')),\n",
    "    ('scaler', StandardScaler())  # Can replace with MinMaxScaler if needed\n",
    "])\n",
    "\n",
    "# Preprocessing for categorical data: Imputation & OneHotEncoding\n",
    "categorical_transformer = Pipeline(steps=[\n",
    "    ('imputer', SimpleImputer(strategy='constant', fill_value='missing')),\n",
    "    ('onehot', OneHotEncoder(handle_unknown='ignore'))\n",
    "])\n",
    "\n",
    "# Combine both into a ColumnTransformer\n",
    "preprocessor = ColumnTransformer(\n",
    "    transformers=[\n",
    "        ('num', numeric_transformer, ['age', 'fnlwgt', 'education_num', 'capital_gain', 'capital_loss', 'hours_per_week']),\n",
    "        ('cat', categorical_transformer, ['workclass', 'education', 'marital_status', 'occupation', 'relationship', 'race', 'gender', 'country'])\n",
    "    ]\n",
    ")\n",
    "\n",
    "# Define the classifier\n",
    "classifier = RandomForestClassifier()\n",
    "\n",
    "# Create a pipeline with preprocessing and the classifier\n",
    "pipeline_final = Pipeline(steps=[\n",
    "    ('preprocessor', preprocessor),\n",
    "    ('classifier', classifier)\n",
    "])\n",
    "\n",
    "# Fit the pipeline on the training data\n",
    "pipeline_final.fit(x_train, y_train)\n",
    "\n",
    "mlflow.start_run(run_name='Final Model',nested=True)\n",
    "mlflow.sklearn.log_model(pipeline_final, \"random_forest_model\")\n",
    "mlflow.end_run()\n"
   ]
  },
  {
   "cell_type": "code",
   "execution_count": 41,
   "metadata": {},
   "outputs": [
    {
     "data": {
      "text/plain": [
       "['random_forest_pipeline.pkl']"
      ]
     },
     "execution_count": 41,
     "metadata": {},
     "output_type": "execute_result"
    }
   ],
   "source": [
    "import joblib\n",
    "joblib.dump(pipeline_final, 'random_forest_pipeline.pkl')"
   ]
  },
  {
   "cell_type": "markdown",
   "metadata": {},
   "source": [
    "Fast API app creation"
   ]
  },
  {
   "cell_type": "code",
   "execution_count": 42,
   "metadata": {},
   "outputs": [],
   "source": [
    "from fastapi import FastAPI\n",
    "from pydantic import BaseModel\n",
    "import joblib\n",
    "import numpy as np\n",
    "import pandas as pd\n",
    "from sklearn.preprocessing import StandardScaler\n",
    "\n",
    "# Load the trained model\n",
    "model = joblib.load('random_forest_pipeline.pkl')  # Adjust with the path to your model\n",
    "\n",
    "Fastapi_app_gc54 = FastAPI()\n",
    "\n",
    "# Define input data schema using Pydantic\n",
    "class PredictionRequest(BaseModel):\n",
    "    age   :  int\n",
    "    workclass   :  str\n",
    "    fnlwgt   :  int\n",
    "    education   :  str\n",
    "    education_num   :  int\n",
    "    marital_status   :  str\n",
    "    occupation   :  str\n",
    "    relationship   :  str\n",
    "    race   :  str\n",
    "    gender   :  str\n",
    "    capital_gain   :  int\n",
    "    capital_loss   :  int\n",
    "    hours_per_week   :  int\n",
    "    country   :  str\n",
    "    # Add other necessary features here\n",
    "\n",
    "# Endpoint for making predictions\n",
    "@Fastapi_app_gc54.post(\"/predict/\")\n",
    "def predict(request: PredictionRequest):\n",
    "    data = np.array([[request.age,\n",
    "                        request. workclass,\n",
    "                        request. fnlwgt,\n",
    "                        request. education,\n",
    "                        request. education_num,\n",
    "                        request. marital_status,\n",
    "                        request. occupation,\n",
    "                        request. relationship,\n",
    "                        request. race,\n",
    "                        request. gender,\n",
    "                        request. capital_gain,\n",
    "                        request. capital_loss,\n",
    "                        request. hours_per_week,\n",
    "                        request. country,\n",
    "]])  # Prepare input data\n",
    "\n",
    "\n",
    "\n",
    "    prediction = model.predict(data)\n",
    "    return {\"prediction\": prediction.tolist()}\n",
    "\n",
    "# You can add more endpoints as needed (e.g., for training, model details, etc.)\n"
   ]
  },
  {
   "cell_type": "code",
   "execution_count": null,
   "metadata": {},
   "outputs": [],
   "source": []
  }
 ],
 "metadata": {
  "kernelspec": {
   "display_name": "Python 3",
   "language": "python",
   "name": "python3"
  },
  "language_info": {
   "codemirror_mode": {
    "name": "ipython",
    "version": 3
   },
   "file_extension": ".py",
   "mimetype": "text/x-python",
   "name": "python",
   "nbconvert_exporter": "python",
   "pygments_lexer": "ipython3",
   "version": "3.12.7"
  }
 },
 "nbformat": 4,
 "nbformat_minor": 2
}